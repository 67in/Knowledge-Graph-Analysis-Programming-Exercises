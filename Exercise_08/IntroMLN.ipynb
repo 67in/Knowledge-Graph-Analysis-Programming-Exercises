{
 "cells": [
  {
   "cell_type": "markdown",
   "metadata": {},
   "source": [
    "## Markov Logic Network (MLN)"
   ]
  },
  {
   "cell_type": "markdown",
   "metadata": {},
   "source": [
    "In this exercise we will discuss MLN:probabilistic model based on logic. A MLN is a first-order knowledge base with a weight attached to each formula.It provides a compact language to specify very large MLN and the ability to flexibly and modularly incorporate \n",
    " \n",
    "Let's define it more mathematically:"
   ]
  },
  {
   "cell_type": "markdown",
   "metadata": {},
   "source": [
    "## Example-1: Modeling Smokes & Cancer "
   ]
  },
  {
   "cell_type": "code",
   "execution_count": 1,
   "metadata": {
    "collapsed": true
   },
   "outputs": [],
   "source": [
    "from pracmln import MLN"
   ]
  },
  {
   "cell_type": "markdown",
   "metadata": {},
   "source": [
    "## Create MLN"
   ]
  },
  {
   "cell_type": "code",
   "execution_count": 3,
   "metadata": {},
   "outputs": [
    {
     "name": "stdout",
     "output_type": "stream",
     "text": [
      "\n",
      "\n",
      "\u001b[38;5;2m\n",
      "// predicate declarations\n",
      "\u001b[0m\u001b[1m\u001b[38;5;15mCancer\u001b[0m(person)\n",
      "\u001b[1m\u001b[38;5;15mFriends\u001b[0m(person,person)\n",
      "\u001b[1m\u001b[38;5;15mSmokes\u001b[0m(person)\n",
      "\u001b[38;5;2m\n",
      "// formulas\n",
      "\u001b[0m\u001b[38;5;5m0.000000  \u001b[0m  \u001b[1m\u001b[38;5;15mSmokes\u001b[0m(x) => \u001b[1m\u001b[38;5;15mCancer\u001b[0m(x)\n",
      "\u001b[38;5;5m0.000000  \u001b[0m  \u001b[1m\u001b[38;5;15mFriends\u001b[0m(x,y) => (\u001b[1m\u001b[38;5;15mSmokes\u001b[0m(x) <=> \u001b[1m\u001b[38;5;15mSmokes\u001b[0m(y))\n"
     ]
    }
   ],
   "source": [
    "mln = MLN(grammar='StandardGrammar',logic='FirstOrderLogic')\n",
    "# MLN for smoking Network\n",
    "\n",
    "# Predicate Declaration\n",
    "mln << 'Friends(person, person)'\n",
    "mln << 'Smokes(person)'\n",
    "mln << 'Cancer(person)'\n",
    "# Rules\n",
    "# If you smoke, you get cancer\n",
    "mln << '0 Smokes(x) => Cancer(x)'\n",
    "# People with friends who smoke, also smoke  and those with friends who don't smoke, don't smoke\n",
    "mln << '0 Friends(x, y) => (Smokes(x) <=> Smokes(y))'\n",
    "mln.write()"
   ]
  },
  {
   "cell_type": "code",
   "execution_count": 4,
   "metadata": {
    "collapsed": true
   },
   "outputs": [],
   "source": [
    "from pracmln import Database"
   ]
  },
  {
   "cell_type": "markdown",
   "metadata": {},
   "source": [
    "## Create Database"
   ]
  },
  {
   "cell_type": "code",
   "execution_count": 5,
   "metadata": {},
   "outputs": [
    {
     "name": "stdout",
     "output_type": "stream",
     "text": [
      "\u001b[1m[\u001b[0m\u001b[38;5;5m■■■■■■■■■■■■■■■■■\u001b[0m\u001b[1m]\u001b[0m 100.000 %  \u001b[1m\u001b[38;5;15mCancer\u001b[0m(Anna)\n",
      "\u001b[1m[\u001b[0m\u001b[38;5;5m■■■■■■■■■■■■■■■■■\u001b[0m\u001b[1m]\u001b[0m 100.000 %  \u001b[1m\u001b[38;5;15mCancer\u001b[0m(Edward)\n",
      "\u001b[1m[\u001b[0m\u001b[38;5;5m■■■■■■■■■■■■■■■■■\u001b[0m\u001b[1m]\u001b[0m 100.000 %  \u001b[1m\u001b[38;5;15mFriends\u001b[0m(Anna,Bob)\n",
      "\u001b[1m[\u001b[0m\u001b[38;5;5m■■■■■■■■■■■■■■■■■\u001b[0m\u001b[1m]\u001b[0m 100.000 %  \u001b[1m\u001b[38;5;15mFriends\u001b[0m(Anna,Edward)\n",
      "\u001b[1m[\u001b[0m\u001b[38;5;5m■■■■■■■■■■■■■■■■■\u001b[0m\u001b[1m]\u001b[0m 100.000 %  \u001b[1m\u001b[38;5;15mFriends\u001b[0m(Anna,Frank)\n",
      "\u001b[1m[\u001b[0m\u001b[38;5;5m■■■■■■■■■■■■■■■■■\u001b[0m\u001b[1m]\u001b[0m 100.000 %  \u001b[1m\u001b[38;5;15mFriends\u001b[0m(Anna,Gary)\n",
      "\u001b[1m[\u001b[0m\u001b[38;5;5m■■■■■■■■■■■■■■■■■\u001b[0m\u001b[1m]\u001b[0m 100.000 %  \u001b[1m\u001b[38;5;15mFriends\u001b[0m(Bob,Anna)\n",
      "\u001b[1m[\u001b[0m\u001b[38;5;5m■■■■■■■■■■■■■■■■■\u001b[0m\u001b[1m]\u001b[0m 100.000 %  \u001b[1m\u001b[38;5;15mFriends\u001b[0m(Bob,Chris)\n",
      "\u001b[1m[\u001b[0m\u001b[38;5;5m■■■■■■■■■■■■■■■■■\u001b[0m\u001b[1m]\u001b[0m 100.000 %  \u001b[1m\u001b[38;5;15mFriends\u001b[0m(Chris,Bob)\n",
      "\u001b[1m[\u001b[0m\u001b[38;5;5m■■■■■■■■■■■■■■■■■\u001b[0m\u001b[1m]\u001b[0m 100.000 %  \u001b[1m\u001b[38;5;15mFriends\u001b[0m(Chris,Daniel)\n",
      "\u001b[1m[\u001b[0m\u001b[38;5;5m■■■■■■■■■■■■■■■■■\u001b[0m\u001b[1m]\u001b[0m 100.000 %  \u001b[1m\u001b[38;5;15mFriends\u001b[0m(Daniel,Chris)\n",
      "\u001b[1m[\u001b[0m\u001b[38;5;5m■■■■■■■■■■■■■■■■■\u001b[0m\u001b[1m]\u001b[0m 100.000 %  \u001b[1m\u001b[38;5;15mFriends\u001b[0m(Edward,Anna)\n",
      "\u001b[1m[\u001b[0m\u001b[38;5;5m■■■■■■■■■■■■■■■■■\u001b[0m\u001b[1m]\u001b[0m 100.000 %  \u001b[1m\u001b[38;5;15mFriends\u001b[0m(Edward,Frank)\n",
      "\u001b[1m[\u001b[0m\u001b[38;5;5m■■■■■■■■■■■■■■■■■\u001b[0m\u001b[1m]\u001b[0m 100.000 %  \u001b[1m\u001b[38;5;15mFriends\u001b[0m(Frank,Anna)\n",
      "\u001b[1m[\u001b[0m\u001b[38;5;5m■■■■■■■■■■■■■■■■■\u001b[0m\u001b[1m]\u001b[0m 100.000 %  \u001b[1m\u001b[38;5;15mFriends\u001b[0m(Frank,Edward)\n",
      "\u001b[1m[\u001b[0m\u001b[38;5;5m■■■■■■■■■■■■■■■■■\u001b[0m\u001b[1m]\u001b[0m 100.000 %  \u001b[1m\u001b[38;5;15mFriends\u001b[0m(Gary,Anna)\n",
      "\u001b[1m[\u001b[0m\u001b[38;5;5m■■■■■■■■■■■■■■■■■\u001b[0m\u001b[1m]\u001b[0m 100.000 %  \u001b[1m\u001b[38;5;15mFriends\u001b[0m(Gary,Helen)\n",
      "\u001b[1m[\u001b[0m\u001b[38;5;5m■■■■■■■■■■■■■■■■■\u001b[0m\u001b[1m]\u001b[0m 100.000 %  \u001b[1m\u001b[38;5;15mFriends\u001b[0m(Helen,Gary)\n",
      "\u001b[1m[\u001b[0m\u001b[38;5;5m■■■■■■■■■■■■■■■■■\u001b[0m\u001b[1m]\u001b[0m 100.000 %  \u001b[1m\u001b[38;5;15mSmokes\u001b[0m(Anna)\n",
      "\u001b[1m[\u001b[0m\u001b[38;5;5m■■■■■■■■■■■■■■■■■\u001b[0m\u001b[1m]\u001b[0m 100.000 %  \u001b[1m\u001b[38;5;15mSmokes\u001b[0m(Edward)\n",
      "\u001b[1m[\u001b[0m\u001b[38;5;5m■■■■■■■■■■■■■■■■■\u001b[0m\u001b[1m]\u001b[0m 100.000 %  \u001b[1m\u001b[38;5;15mSmokes\u001b[0m(Frank)\n",
      "\u001b[1m[\u001b[0m\u001b[38;5;5m■■■■■■■■■■■■■■■■■\u001b[0m\u001b[1m]\u001b[0m 100.000 %  \u001b[1m\u001b[38;5;15mSmokes\u001b[0m(Gary)\n"
     ]
    }
   ],
   "source": [
    "db = Database(mln)\n",
    "db << 'Friends(Anna, Bob)'\n",
    "db << 'Friends(Bob, Anna)'\n",
    "db << 'Friends(Anna, Edward)'\n",
    "db << 'Friends(Edward, Anna)'\n",
    "db << 'Friends(Anna, Frank)'\n",
    "db << 'Friends(Frank, Anna)'\n",
    "db << 'Friends(Bob, Chris)'\n",
    "db << 'Friends(Chris, Bob)'\n",
    "db << 'Friends(Chris, Daniel)'\n",
    "db << 'Friends(Daniel, Chris)'\n",
    "db << 'Friends(Edward, Frank)'\n",
    "db << 'Friends(Frank, Edward)'\n",
    "db << 'Friends(Gary, Helen)'\n",
    "db << 'Friends(Helen, Gary)'\n",
    "db << 'Friends(Gary, Anna)'\n",
    "db << 'Friends(Anna, Gary)'   \n",
    "\n",
    "db << 'Smokes(Anna)'\n",
    "db << 'Smokes(Edward)'\n",
    "db << 'Smokes(Frank)'\n",
    "db << 'Smokes(Gary)'\n",
    "\n",
    "db << 'Cancer(Anna)'\n",
    "db << 'Cancer(Edward)'\n",
    "\n",
    "db.write()"
   ]
  },
  {
   "cell_type": "markdown",
   "metadata": {},
   "source": [
    "## Configure Parameters"
   ]
  },
  {
   "cell_type": "code",
   "execution_count": 6,
   "metadata": {
    "collapsed": true
   },
   "outputs": [],
   "source": [
    "from pracmln.utils.project import PRACMLNConfig\n",
    "from pracmln.utils import config, locs\n",
    "from pracmln.utils.config import global_config_filename\n",
    "import os\n",
    "from pracmln.mlnlearn import MLNLearn"
   ]
  },
  {
   "cell_type": "code",
   "execution_count": 7,
   "metadata": {
    "collapsed": true
   },
   "outputs": [],
   "source": [
    "DEFAULT_CONFIG = os.path.join(locs.user_data, global_config_filename)\n",
    "conf = PRACMLNConfig(DEFAULT_CONFIG)"
   ]
  },
  {
   "cell_type": "code",
   "execution_count": 8,
   "metadata": {},
   "outputs": [
    {
     "name": "stdout",
     "output_type": "stream",
     "text": [
      "loaded 1 database(s).\n",
      "Parameter:                   Value:\n",
      "---------------------------  ------------------------------------------------------------------------------------------------------------------------------------------------------\n",
      "db                           <pracmln.mln.database.Database object at 0x7f7d14d12a20>\n",
      "discr_preds                  0\n",
      "grammar                      StandardGrammar\n",
      "ignore_unknown_preds         0\n",
      "ignore_zero_weight_formulas  0\n",
      "incremental                  0\n",
      "logic                        FirstOrderLogic\n",
      "method                       BPLL\n",
      "mln                          <pracmln.mln.base.MLN object at 0x7f7d14d8fc88>\n",
      "multicore                    1\n",
      "prev_learnwts_path           /home/asif/pracmln/examples/smokers\n",
      "prev_learnwts_project        {'/home/asif/ProbCog/examples/grades-ext': 'unknown.pracmln', '/home/asif': 'dummy.pracmln', '/home/asif/pracmln/examples/smokers': 'smokers.pracmln'}\n",
      "prev_query_path              /home/asif/pracmln/examples/smokers\n",
      "prev_query_project           {'/home/asif/pracmln/examples/smokers': 'smokers.pracmln'}\n",
      "prior_mean                   0\n",
      "prior_stdev                  5\n",
      "profile                      0\n",
      "save                         1\n",
      "shuffle                      0\n",
      "use_initial_weights          0\n",
      "use_prior                    0\n",
      "verbose                      True\n",
      "window_loc_learn             937x853+755+14\n",
      "window_loc_query             763x853+1106+178\n",
      "grounding...\n",
      "starting optimization with bfgs... {}\n",
      "\n",
      "Optimization terminated successfully.      \n",
      "         Current function value: 44.345521\n",
      "         Iterations: 8\n",
      "         Function evaluations: 9\n",
      "         Gradient evaluations: 9\n",
      "optimization done with bfgs...\n",
      "f-opt: -44.3455210850816570\n",
      "function evaluations: 9\n",
      "warning flags: 0\n",
      "\n",
      "\n",
      "\u001b[1m===========================\u001b[0m\n",
      "\u001b[1mLEARNT MARKOV LOGIC NETWORK\u001b[0m\n",
      "\u001b[1m===========================\u001b[0m\n",
      "\n",
      "\n",
      "\n",
      "\u001b[38;5;2m\n",
      "// predicate declarations\n",
      "\u001b[0m\u001b[1m\u001b[38;5;15mCancer\u001b[0m(person)\n",
      "\u001b[1m\u001b[38;5;15mFriends\u001b[0m(person,person)\n",
      "\u001b[1m\u001b[38;5;15mSmokes\u001b[0m(person)\n",
      "\u001b[38;5;2m\n",
      "// formulas\n",
      "\u001b[0m\u001b[38;5;5m0.646696  \u001b[0m  \u001b[1m\u001b[38;5;15mSmokes\u001b[0m(x) => \u001b[1m\u001b[38;5;15mCancer\u001b[0m(x)\n",
      "\u001b[38;5;5m1.519900  \u001b[0m  \u001b[1m\u001b[38;5;15mFriends\u001b[0m(x,y) => (\u001b[1m\u001b[38;5;15mSmokes\u001b[0m(x) <=> \u001b[1m\u001b[38;5;15mSmokes\u001b[0m(y))\n",
      "\n",
      "<pracmln.mln.base.MLN object at 0x7f7d14d12eb8>\n"
     ]
    }
   ],
   "source": [
    "config = {}\n",
    "config['verbose'] = True\n",
    "config['discr_preds'] = 0\n",
    "config['db'] = db\n",
    "config['mln'] = mln\n",
    "config['ignore_zero_weight_formulas'] = 0\n",
    "config['ignore_unknown_preds'] = 0\n",
    "config['incremental'] = 0\n",
    "config['grammar'] = 'StandardGrammar'\n",
    "config['logic'] = 'FirstOrderLogic'\n",
    "#Other Methods: EnumerationAsk, MC-SAT, WCSPInference, GibbsSampler\n",
    "config['method'] = 'BPLL'\n",
    "config['multicore'] = 1\n",
    "config['profile'] = 0\n",
    "config['shuffle'] = 0\n",
    "config['prior_mean'] = 0\n",
    "config['prior_stdev'] = 5\n",
    "config['save'] = 1\n",
    "config['use_initial_weights'] = 0\n",
    "config['use_prior'] = 0\n",
    "conf.update(config)\n",
    "\n",
    "learn = MLNLearn(conf, mln=mln, db=db)\n",
    "result = learn.run()\n",
    "print(result)\n"
   ]
  },
  {
   "cell_type": "markdown",
   "metadata": {},
   "source": [
    "## Query learnt MLN"
   ]
  },
  {
   "cell_type": "code",
   "execution_count": 9,
   "metadata": {
    "collapsed": true
   },
   "outputs": [],
   "source": [
    "from pracmln import MLNQuery"
   ]
  },
  {
   "cell_type": "code",
   "execution_count": 10,
   "metadata": {},
   "outputs": [
    {
     "name": "stdout",
     "output_type": "stream",
     "text": [
      "\u001b[1m[\u001b[0m\u001b[38;5;5m■■■■■■■■■■■■■■■■■\u001b[0m\u001b[1m]\u001b[0m 100.000 %  \u001b[1m\u001b[38;5;15mCancer\u001b[0m(Ann)\n",
      "\u001b[1m[\u001b[0m\u001b[38;5;5m                 \u001b[0m\u001b[1m]\u001b[0m   0.000 %  \u001b[1m\u001b[38;5;15mCancer\u001b[0m(Bob)\n",
      "\u001b[1m[\u001b[0m\u001b[38;5;5m■■■■■■■■■■■■■■■■■\u001b[0m\u001b[1m]\u001b[0m 100.000 %  \u001b[1m\u001b[38;5;15mFriends\u001b[0m(Ann,Bob)\n",
      "\u001b[1m[\u001b[0m\u001b[38;5;5m                 \u001b[0m\u001b[1m]\u001b[0m   0.000 %  \u001b[1m\u001b[38;5;15mSmokes\u001b[0m(Bob)\n"
     ]
    }
   ],
   "source": [
    "db1 = Database(mln)\n",
    "db1<<'Cancer(Ann)'\n",
    "db1<<'!Cancer(Bob)'\n",
    "db1<<'Friends(Ann,Bob)'\n",
    "db1<<'!Smokes(Bob)'\n",
    "db1.write()"
   ]
  },
  {
   "cell_type": "code",
   "execution_count": 18,
   "metadata": {},
   "outputs": [
    {
     "name": "stdout",
     "output_type": "stream",
     "text": [
      "inference...\n",
      "Parameter:             Value:\n",
      "---------------------  ------------------------------------------------------------------------------------------------------------------------------------------------------\n",
      "cw                     0\n",
      "db                     <pracmln.mln.database.Database object at 0x7f7d14d0cef0>\n",
      "maxsteps               5000\n",
      "method                 WCSPInference\n",
      "mln                    <pracmln.mln.base.MLN object at 0x7f7d14d12eb8>\n",
      "p                      0.6\n",
      "prev_learnwts_path     /home/asif/pracmln/examples/smokers\n",
      "prev_learnwts_project  {'/home/asif/ProbCog/examples/grades-ext': 'unknown.pracmln', '/home/asif': 'dummy.pracmln', '/home/asif/pracmln/examples/smokers': 'smokers.pracmln'}\n",
      "prev_query_path        /home/asif/pracmln/examples/smokers\n",
      "prev_query_project     {'/home/asif/pracmln/examples/smokers': 'smokers.pracmln'}\n",
      "queries                Cancer,Smokes,Friends\n",
      "verbose                1\n",
      "window_loc_learn       937x853+755+14\n",
      "window_loc_query       763x853+1106+178\n",
      "\n",
      "\u001b[1m==================\u001b[0m\n",
      "\u001b[1mEVIDENCE VARIABLES\u001b[0m\n",
      "\u001b[1m==================\u001b[0m\n",
      "\n",
      "mlnquery.py: l.247: === WORLD VARIABLES ===\n",
      "<BinaryVariable \"Cancer(Ann)\": [Cancer(Ann)]>\n",
      "  1.000  Cancer(Ann)\n",
      "<BinaryVariable \"Cancer(Bob)\": [Cancer(Bob)]>\n",
      "  0.000  Cancer(Bob)\n",
      "<BinaryVariable \"Friends(Ann,Ann)\": [Friends(Ann,Ann)]>\n",
      "  ?      Friends(Ann,Ann)\n",
      "<BinaryVariable \"Friends(Ann,Bob)\": [Friends(Ann,Bob)]>\n",
      "  1.000  Friends(Ann,Bob)\n",
      "<BinaryVariable \"Friends(Bob,Ann)\": [Friends(Bob,Ann)]>\n",
      "  ?      Friends(Bob,Ann)\n",
      "<BinaryVariable \"Friends(Bob,Bob)\": [Friends(Bob,Bob)]>\n",
      "  ?      Friends(Bob,Bob)\n",
      "<BinaryVariable \"Smokes(Ann)\": [Smokes(Ann)]>\n",
      "  ?      Smokes(Ann)\n",
      "<BinaryVariable \"Smokes(Bob)\": [Smokes(Bob)]>\n",
      "  0.000  Smokes(Bob)\n",
      "Inference engine: WCSPInference\n",
      "inference...\n",
      "grounding...\n",
      "\n",
      "\u001b[1m=================\u001b[0m\n",
      "\u001b[1mINFERENCE RESULTS\u001b[0m\n",
      "\u001b[1m=================\u001b[0m\n",
      "\n",
      "[=================] 100.000 % Cancer(Ann)\n",
      "[                 ]   0.000 % Cancer(Bob)\n",
      "[                 ]   0.000 % Friends(Ann,Ann)\n",
      "[=================] 100.000 % Friends(Ann,Bob)\n",
      "[                 ]   0.000 % Friends(Bob,Ann)\n",
      "[                 ]   0.000 % Friends(Bob,Bob)\n",
      "[                 ]   0.000 % Smokes(Ann)\n",
      "[                 ]   0.000 % Smokes(Bob)\n",
      "\n",
      "\u001b[1m============================\u001b[0m\n",
      "\u001b[1mINFERENCE RUNTIME STATISTICS\u001b[0m\n",
      "\u001b[1m============================\u001b[0m\n",
      "\u001b[1m[\u001b[0m\u001b[38;5;4m■■■■■■■■■■■■■■■■■\u001b[0m\u001b[1m]\u001b[0m 100.000 % 0:00:00.009 inference\n",
      "\n",
      "\u001b[1minference\u001b[0m took 0:00:00.036\n"
     ]
    }
   ],
   "source": [
    "DEFAULT_CONFIG = os.path.join(locs.user_data, global_config_filename)\n",
    "conf = PRACMLNConfig(DEFAULT_CONFIG)\n",
    "config = {}\n",
    "config['method']='WCSPInference'\n",
    "config['db']=db1\n",
    "config['mln']=result\n",
    "config['queries'] ='Cancer,Smokes,Friends'\n",
    "config['params'] = 'p=0.6,maxsteps=5000'\n",
    "config['cw'] = 0\n",
    "config['verbose'] = 1\n",
    "conf.update(config)\n",
    "infer = MLNQuery(config=conf, mln=result,db=db1)\n",
    "output = infer.run()"
   ]
  },
  {
   "cell_type": "code",
   "execution_count": null,
   "metadata": {
    "collapsed": true
   },
   "outputs": [],
   "source": []
  }
 ],
 "metadata": {
  "kernelspec": {
   "display_name": "Python 3",
   "language": "python",
   "name": "python3"
  },
  "language_info": {
   "codemirror_mode": {
    "name": "ipython",
    "version": 3
   },
   "file_extension": ".py",
   "mimetype": "text/x-python",
   "name": "python",
   "nbconvert_exporter": "python",
   "pygments_lexer": "ipython3",
   "version": "3.6.1"
  }
 },
 "nbformat": 4,
 "nbformat_minor": 2
}
