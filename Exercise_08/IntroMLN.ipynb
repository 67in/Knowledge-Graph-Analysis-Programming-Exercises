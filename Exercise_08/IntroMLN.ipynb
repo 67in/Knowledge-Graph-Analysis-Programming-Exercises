{
 "cells": [
  {
   "cell_type": "markdown",
   "metadata": {},
   "source": [
    "## Markov Logic Network (MLN)"
   ]
  },
  {
   "cell_type": "markdown",
   "metadata": {},
   "source": [
    "In this exercise we will discuss MLN:probabilistic model based on logic. A MLN is a first-order knowledge base with a weight attached to each formula.It provides a compact language to specify very large MLN and the ability to flexibly and modularly incorporate.\n",
    "\n",
    "## Markov Network\n",
    "\n",
    "A markov network is defined as set of random variables having a Markov property described by an undirected graph.\n",
    "Let $X=X_1,X_2,...,X_n$ be a set of random variables and G a graph with X as vertices. Let $C = C_1,C_2,...,C_m$ be the set of all maximal cliques in G. Let $\\phi_1,\\phi_2,...,\\phi_m$ be factor potentials defined over $C_1,C_2,...,C_m$ respectively.\n",
    "X is a Markov network if:\n",
    "$$P(X_1,X_2,...,X_n) = \\frac{1}{Z}\\phi(C_1)\\times\\phi(C_2)\\times\\cdot\\cdot\\cdot\\times\\phi_m(C_m).$$\n",
    "\n",
    "$Z$ is a normalization constant, called the partition function, defined as:\n",
    "\n",
    "$$Z = \\sum_{X_1,X_2,...,X_n}\\phi(C_1)\\times\\phi(C_2)\\times\\cdot\\cdot\\cdot\\times\\phi_m(C_m)$$\n",
    "\n",
    "each $C_i$ is a subset of ${X_1,X_2,\\cdot\\cdot\\cdot,X_n}$\n",
    "For further details refer to following tutorial on [MRF](https://mitpress.mit.edu/sites/default/files/titles/content/9780262015776_sch_0001.pdf).\n",
    "\n",
    "## Markov Logic\n",
    "\n",
    "Intution: Combine First Order Logic(FOL) with Markov Networks\n",
    "\n",
    "A FOL can be seen as set of hard constraints on the set of possible worlds. If a world violates even one formula it has zero probability. In MLN idea is to soften these constraints i.e. if world violates one formula in the KB it is less probable but not impossible.\n",
    "\n",
    "To achieve this weights are given to each formula (higher weights imply stronger constraint)\n",
    "\n",
    "$P(X=x)$ $\\propto$ exp($\\sum$ weights of formulas that are true in x)\n",
    "\n",
    "more formally:\n",
    "$$P(X) = \\frac{1}{Z}exp(\\sum_{i=1}w_in_i(x))$$\n",
    "\n",
    "where $w_i$ is the weight of formual i and $n_i$ is the numer of true groundings of formula i in x\n",
    "\n",
    "For further details refer to paper: [Markov Logic Networks](https://homes.cs.washington.edu/~pedrod/papers/mlj05.pdf)\n"
   ]
  },
  {
   "cell_type": "markdown",
   "metadata": {},
   "source": [
    "## Example-1: Friends and Smokers \n",
    "\n",
    "In this example we will model Friends and Smokers network discussed in lecture.\n",
    "\n",
    "Rules to learn:\n",
    "\n",
    "a)Smoking causes cancer.\n",
    "\n",
    "b)Friends have similar smoking habits.\n",
    "\n",
    "FOL representation:\n",
    "\n",
    "a) $\\forall x Smokes(x) \\implies Cancer(x)$\n",
    "\n",
    "b) $\\forall x,y Friends(x,y) \\implies (Smokes(x) \\iff Smokes(y))$\n",
    "\n",
    "For implemention MLN we will use python based tool pracmln."
   ]
  },
  {
   "cell_type": "code",
   "execution_count": 3,
   "metadata": {
    "collapsed": true
   },
   "outputs": [],
   "source": [
    "# Import Some Libraries\n",
    "from pracmln import MLN\n",
    "from pracmln import Database"
   ]
  },
  {
   "cell_type": "markdown",
   "metadata": {},
   "source": [
    "## Create MLN\n",
    "\n",
    "An MLN is represented by an instance of class pracmln.MLN. Here we create an empty constructor and add predicates and rules to it.\n",
    "\n",
    "MLN can also be loaded from existing file in that case all predicates and rules are saved in a file of format '.mln' and can be directly loaded."
   ]
  },
  {
   "cell_type": "code",
   "execution_count": 9,
   "metadata": {},
   "outputs": [
    {
     "name": "stdout",
     "output_type": "stream",
     "text": [
      "\n",
      "\n",
      "\u001b[38;5;2m\n",
      "// predicate declarations\n",
      "\u001b[0m\u001b[1m\u001b[38;5;15mCancer\u001b[0m(person)\n",
      "\u001b[1m\u001b[38;5;15mFriends\u001b[0m(person,person)\n",
      "\u001b[1m\u001b[38;5;15mSmokes\u001b[0m(person)\n",
      "\u001b[38;5;2m\n",
      "// formulas\n",
      "\u001b[0m\u001b[38;5;5m0.000000  \u001b[0m  \u001b[1m\u001b[38;5;15mSmokes\u001b[0m(x) => \u001b[1m\u001b[38;5;15mCancer\u001b[0m(x)\n",
      "\u001b[38;5;5m0.000000  \u001b[0m  \u001b[1m\u001b[38;5;15mFriends\u001b[0m(x,y) => (\u001b[1m\u001b[38;5;15mSmokes\u001b[0m(x) <=> \u001b[1m\u001b[38;5;15mSmokes\u001b[0m(y))\n"
     ]
    }
   ],
   "source": [
    "mln = MLN(grammar='StandardGrammar',logic='FirstOrderLogic')\n",
    "# MLN for smoking Network\n",
    "\n",
    "# Predicate Declaration\n",
    "mln << 'Friends(person, person)'\n",
    "mln << 'Smokes(person)'\n",
    "mln << 'Cancer(person)'\n",
    "# Rules\n",
    "# If you smoke, you get cancer\n",
    "mln << '0 Smokes(x) => Cancer(x)'\n",
    "# People with friends who smoke, also smoke  and those with friends who don't smoke, don't smoke\n",
    "mln << '0 Friends(x, y) => (Smokes(x) <=> Smokes(y))'\n",
    "mln.write()"
   ]
  },
  {
   "cell_type": "markdown",
   "metadata": {},
   "source": [
    "## Create Database\n",
    "\n",
    "Here we define facts in our database which will be used to create a MLN. Database is a central data structure for representing relational data.It stores atomic facts about the relational domain of discourse by maintaining a mapping of ground atoms to their respective truth value.\n",
    "\n",
    "It can also be loaded from file, here we create an empty constructor and add facts to it."
   ]
  },
  {
   "cell_type": "code",
   "execution_count": 10,
   "metadata": {},
   "outputs": [
    {
     "name": "stdout",
     "output_type": "stream",
     "text": [
      "\u001b[1m[\u001b[0m\u001b[38;5;5m■■■■■■■■■■■■■■■■■\u001b[0m\u001b[1m]\u001b[0m 100.000 %  \u001b[1m\u001b[38;5;15mCancer\u001b[0m(Anna)\n",
      "\u001b[1m[\u001b[0m\u001b[38;5;5m■■■■■■■■■■■■■■■■■\u001b[0m\u001b[1m]\u001b[0m 100.000 %  \u001b[1m\u001b[38;5;15mCancer\u001b[0m(Edward)\n",
      "\u001b[1m[\u001b[0m\u001b[38;5;5m■■■■■■■■■■■■■■■■■\u001b[0m\u001b[1m]\u001b[0m 100.000 %  \u001b[1m\u001b[38;5;15mFriends\u001b[0m(Anna,Bob)\n",
      "\u001b[1m[\u001b[0m\u001b[38;5;5m■■■■■■■■■■■■■■■■■\u001b[0m\u001b[1m]\u001b[0m 100.000 %  \u001b[1m\u001b[38;5;15mFriends\u001b[0m(Anna,Edward)\n",
      "\u001b[1m[\u001b[0m\u001b[38;5;5m■■■■■■■■■■■■■■■■■\u001b[0m\u001b[1m]\u001b[0m 100.000 %  \u001b[1m\u001b[38;5;15mFriends\u001b[0m(Anna,Frank)\n",
      "\u001b[1m[\u001b[0m\u001b[38;5;5m■■■■■■■■■■■■■■■■■\u001b[0m\u001b[1m]\u001b[0m 100.000 %  \u001b[1m\u001b[38;5;15mFriends\u001b[0m(Anna,Gary)\n",
      "\u001b[1m[\u001b[0m\u001b[38;5;5m■■■■■■■■■■■■■■■■■\u001b[0m\u001b[1m]\u001b[0m 100.000 %  \u001b[1m\u001b[38;5;15mFriends\u001b[0m(Bob,Anna)\n",
      "\u001b[1m[\u001b[0m\u001b[38;5;5m■■■■■■■■■■■■■■■■■\u001b[0m\u001b[1m]\u001b[0m 100.000 %  \u001b[1m\u001b[38;5;15mFriends\u001b[0m(Bob,Chris)\n",
      "\u001b[1m[\u001b[0m\u001b[38;5;5m■■■■■■■■■■■■■■■■■\u001b[0m\u001b[1m]\u001b[0m 100.000 %  \u001b[1m\u001b[38;5;15mFriends\u001b[0m(Chris,Bob)\n",
      "\u001b[1m[\u001b[0m\u001b[38;5;5m■■■■■■■■■■■■■■■■■\u001b[0m\u001b[1m]\u001b[0m 100.000 %  \u001b[1m\u001b[38;5;15mFriends\u001b[0m(Chris,Daniel)\n",
      "\u001b[1m[\u001b[0m\u001b[38;5;5m■■■■■■■■■■■■■■■■■\u001b[0m\u001b[1m]\u001b[0m 100.000 %  \u001b[1m\u001b[38;5;15mFriends\u001b[0m(Daniel,Chris)\n",
      "\u001b[1m[\u001b[0m\u001b[38;5;5m■■■■■■■■■■■■■■■■■\u001b[0m\u001b[1m]\u001b[0m 100.000 %  \u001b[1m\u001b[38;5;15mFriends\u001b[0m(Edward,Anna)\n",
      "\u001b[1m[\u001b[0m\u001b[38;5;5m■■■■■■■■■■■■■■■■■\u001b[0m\u001b[1m]\u001b[0m 100.000 %  \u001b[1m\u001b[38;5;15mFriends\u001b[0m(Edward,Frank)\n",
      "\u001b[1m[\u001b[0m\u001b[38;5;5m■■■■■■■■■■■■■■■■■\u001b[0m\u001b[1m]\u001b[0m 100.000 %  \u001b[1m\u001b[38;5;15mFriends\u001b[0m(Frank,Anna)\n",
      "\u001b[1m[\u001b[0m\u001b[38;5;5m■■■■■■■■■■■■■■■■■\u001b[0m\u001b[1m]\u001b[0m 100.000 %  \u001b[1m\u001b[38;5;15mFriends\u001b[0m(Frank,Edward)\n",
      "\u001b[1m[\u001b[0m\u001b[38;5;5m■■■■■■■■■■■■■■■■■\u001b[0m\u001b[1m]\u001b[0m 100.000 %  \u001b[1m\u001b[38;5;15mFriends\u001b[0m(Gary,Anna)\n",
      "\u001b[1m[\u001b[0m\u001b[38;5;5m■■■■■■■■■■■■■■■■■\u001b[0m\u001b[1m]\u001b[0m 100.000 %  \u001b[1m\u001b[38;5;15mFriends\u001b[0m(Gary,Helen)\n",
      "\u001b[1m[\u001b[0m\u001b[38;5;5m■■■■■■■■■■■■■■■■■\u001b[0m\u001b[1m]\u001b[0m 100.000 %  \u001b[1m\u001b[38;5;15mFriends\u001b[0m(Helen,Gary)\n",
      "\u001b[1m[\u001b[0m\u001b[38;5;5m■■■■■■■■■■■■■■■■■\u001b[0m\u001b[1m]\u001b[0m 100.000 %  \u001b[1m\u001b[38;5;15mSmokes\u001b[0m(Anna)\n",
      "\u001b[1m[\u001b[0m\u001b[38;5;5m■■■■■■■■■■■■■■■■■\u001b[0m\u001b[1m]\u001b[0m 100.000 %  \u001b[1m\u001b[38;5;15mSmokes\u001b[0m(Edward)\n",
      "\u001b[1m[\u001b[0m\u001b[38;5;5m■■■■■■■■■■■■■■■■■\u001b[0m\u001b[1m]\u001b[0m 100.000 %  \u001b[1m\u001b[38;5;15mSmokes\u001b[0m(Frank)\n",
      "\u001b[1m[\u001b[0m\u001b[38;5;5m■■■■■■■■■■■■■■■■■\u001b[0m\u001b[1m]\u001b[0m 100.000 %  \u001b[1m\u001b[38;5;15mSmokes\u001b[0m(Gary)\n"
     ]
    }
   ],
   "source": [
    "db = Database(mln)\n",
    "db << 'Friends(Anna, Bob)'\n",
    "db << 'Friends(Bob, Anna)'\n",
    "db << 'Friends(Anna, Edward)'\n",
    "db << 'Friends(Edward, Anna)'\n",
    "db << 'Friends(Anna, Frank)'\n",
    "db << 'Friends(Frank, Anna)'\n",
    "db << 'Friends(Bob, Chris)'\n",
    "db << 'Friends(Chris, Bob)'\n",
    "db << 'Friends(Chris, Daniel)'\n",
    "db << 'Friends(Daniel, Chris)'\n",
    "db << 'Friends(Edward, Frank)'\n",
    "db << 'Friends(Frank, Edward)'\n",
    "db << 'Friends(Gary, Helen)'\n",
    "db << 'Friends(Helen, Gary)'\n",
    "db << 'Friends(Gary, Anna)'\n",
    "db << 'Friends(Anna, Gary)'   \n",
    "\n",
    "db << 'Smokes(Anna)'\n",
    "db << 'Smokes(Edward)'\n",
    "db << 'Smokes(Frank)'\n",
    "db << 'Smokes(Gary)'\n",
    "\n",
    "db << 'Cancer(Anna)'\n",
    "db << 'Cancer(Edward)'\n",
    "\n",
    "db.write()"
   ]
  },
  {
   "cell_type": "markdown",
   "metadata": {},
   "source": [
    "## Configure Parameters\n",
    "\n",
    "There are certain default parameters and some model specific parameters. To set the parameters we only need to update default configuration file."
   ]
  },
  {
   "cell_type": "code",
   "execution_count": 11,
   "metadata": {
    "collapsed": true
   },
   "outputs": [],
   "source": [
    "from pracmln.utils.project import PRACMLNConfig\n",
    "from pracmln.utils import config, locs\n",
    "from pracmln.utils.config import global_config_filename\n",
    "import os\n",
    "from pracmln.mlnlearn import MLNLearn"
   ]
  },
  {
   "cell_type": "code",
   "execution_count": 12,
   "metadata": {
    "collapsed": true
   },
   "outputs": [],
   "source": [
    "DEFAULT_CONFIG = os.path.join(locs.user_data, global_config_filename)\n",
    "conf = PRACMLNConfig(DEFAULT_CONFIG)"
   ]
  },
  {
   "cell_type": "code",
   "execution_count": 13,
   "metadata": {},
   "outputs": [],
   "source": [
    "config = {}\n",
    "config['verbose'] = True\n",
    "config['discr_preds'] = 0\n",
    "config['db'] = db\n",
    "config['mln'] = mln\n",
    "config['ignore_zero_weight_formulas'] = 0\n",
    "config['ignore_unknown_preds'] = 0\n",
    "config['incremental'] = 0\n",
    "config['grammar'] = 'StandardGrammar'\n",
    "config['logic'] = 'FirstOrderLogic'\n",
    "#Other Methods: EnumerationAsk, MC-SAT, WCSPInference, GibbsSampler\n",
    "config['method'] = 'BPLL'\n",
    "config['multicore'] = 1\n",
    "config['profile'] = 0\n",
    "config['shuffle'] = 0\n",
    "config['prior_mean'] = 0\n",
    "config['prior_stdev'] = 5\n",
    "config['save'] = 1\n",
    "config['use_initial_weights'] = 0\n",
    "config['use_prior'] = 0\n",
    "conf.update(config)\n"
   ]
  },
  {
   "cell_type": "markdown",
   "metadata": {},
   "source": [
    "## Learn MLN\n",
    "\n",
    "There are following learning methods available and can be specified in configuration file.\n",
    "\n",
    "Other available methods:\n",
    "\n",
    "a) Log-likelihood Learning\n",
    "\n",
    "b) Pseudo-likelihood Learning\n",
    "\n",
    "c) Pseudo-likelihood Learning (with Custom Grounding)\n",
    "\n",
    "d) Composite-likelihood Learning\n",
    "\n",
    "e) Discriminative Learning Methods\n",
    "\n",
    "f) Discriminative log-likelihood Learning\n",
    "\n",
    "g) Discriminative Pseudo-likelihood Learning\n",
    "\n",
    "h) Discriminative Pseudo-likelihood Learning\n",
    "\n",
    "i) Discriminative Pseudo-likelihood Learning (with Custom Grounding)\n",
    "\n",
    "j) Discriminative Composite-likelihood Learning\n",
    "\n",
    "Here we use Pseudo-log-likelihood(PLL) learning with blocking (BPLL), it is a generalisation of PLL. This learner considers the fact that the truth value of a blocked atom cannot be inverted without changing a further atom's truth value from the same block.\n",
    "\n",
    "For optimization following two are supported by pracmln and can be specified in configuration file:\n",
    "\n",
    "a) BFGS (Broyden–Fletcher–Goldfarb–Shanno algorithm)\n",
    "\n",
    "b) Conjugate Gradient\n",
    "\n"
   ]
  },
  {
   "cell_type": "code",
   "execution_count": 14,
   "metadata": {},
   "outputs": [
    {
     "name": "stdout",
     "output_type": "stream",
     "text": [
      "loaded 1 database(s).\n",
      "Parameter:                   Value:\n",
      "---------------------------  ------------------------------------------------------------------------------------------------------------------------------------------------------\n",
      "db                           <pracmln.mln.database.Database object at 0x7f25d1cce8d0>\n",
      "discr_preds                  0\n",
      "grammar                      StandardGrammar\n",
      "ignore_unknown_preds         0\n",
      "ignore_zero_weight_formulas  0\n",
      "incremental                  0\n",
      "logic                        FirstOrderLogic\n",
      "method                       BPLL\n",
      "mln                          <pracmln.mln.base.MLN object at 0x7f25dd5e7128>\n",
      "multicore                    1\n",
      "prev_learnwts_path           /home/asif/pracmln/examples/smokers\n",
      "prev_learnwts_project        {'/home/asif/ProbCog/examples/grades-ext': 'unknown.pracmln', '/home/asif': 'dummy.pracmln', '/home/asif/pracmln/examples/smokers': 'smokers.pracmln'}\n",
      "prev_query_path              /home/asif/pracmln/examples/smokers\n",
      "prev_query_project           {'/home/asif/pracmln/examples/smokers': 'smokers.pracmln'}\n",
      "prior_mean                   0\n",
      "prior_stdev                  5\n",
      "profile                      0\n",
      "save                         1\n",
      "shuffle                      0\n",
      "use_initial_weights          0\n",
      "use_prior                    0\n",
      "verbose                      True\n",
      "window_loc_learn             937x853+755+14\n",
      "window_loc_query             763x853+1096+140\n",
      "grounding...\n",
      "starting optimization with bfgs... {}\n",
      "\n",
      "Optimization terminated successfully.      \n",
      "         Current function value: 44.345521\n",
      "         Iterations: 8\n",
      "         Function evaluations: 9\n",
      "         Gradient evaluations: 9\n",
      "optimization done with bfgs...\n",
      "f-opt: -44.3455210850816641\n",
      "function evaluations: 9\n",
      "warning flags: 0\n",
      "\n",
      "\n",
      "\u001b[1m===========================\u001b[0m\n",
      "\u001b[1mLEARNT MARKOV LOGIC NETWORK\u001b[0m\n",
      "\u001b[1m===========================\u001b[0m\n",
      "\n",
      "\n",
      "\n",
      "\u001b[38;5;2m\n",
      "// predicate declarations\n",
      "\u001b[0m\u001b[1m\u001b[38;5;15mCancer\u001b[0m(person)\n",
      "\u001b[1m\u001b[38;5;15mFriends\u001b[0m(person,person)\n",
      "\u001b[1m\u001b[38;5;15mSmokes\u001b[0m(person)\n",
      "\u001b[38;5;2m\n",
      "// formulas\n",
      "\u001b[0m\u001b[38;5;5m0.646696  \u001b[0m  \u001b[1m\u001b[38;5;15mSmokes\u001b[0m(x) => \u001b[1m\u001b[38;5;15mCancer\u001b[0m(x)\n",
      "\u001b[38;5;5m1.519900  \u001b[0m  \u001b[1m\u001b[38;5;15mFriends\u001b[0m(x,y) => (\u001b[1m\u001b[38;5;15mSmokes\u001b[0m(x) <=> \u001b[1m\u001b[38;5;15mSmokes\u001b[0m(y))\n",
      "\n"
     ]
    }
   ],
   "source": [
    "learn = MLNLearn(conf, mln=mln, db=db)\n",
    "result = learn.run()"
   ]
  },
  {
   "cell_type": "markdown",
   "metadata": {},
   "source": [
    "## Inference\n",
    "\n",
    "In this part we query learnt MLN model on a small new Database. Following learning methods are available:\n",
    "\n",
    "a) Full posterior distributions\n",
    "\n",
    "b) MC-SAT\n",
    "\n",
    "c) Gibbs Sampling\n",
    "\n",
    "d) Most Probable Explanation (MPE)\n",
    "\n",
    "e) MaxWalk-SAT\n",
    "\n",
    "f) WCSP\n",
    "\n",
    "For this exercise we use WCSP Inference. WCSP performs exact MPE inference by converting the ground MRF into an equivalent weighted constraint satisfaction problem (WCSP)."
   ]
  },
  {
   "cell_type": "code",
   "execution_count": 15,
   "metadata": {
    "collapsed": true
   },
   "outputs": [],
   "source": [
    "from pracmln import MLNQuery"
   ]
  },
  {
   "cell_type": "code",
   "execution_count": 16,
   "metadata": {},
   "outputs": [
    {
     "name": "stdout",
     "output_type": "stream",
     "text": [
      "\u001b[1m[\u001b[0m\u001b[38;5;5m■■■■■■■■■■■■■■■■■\u001b[0m\u001b[1m]\u001b[0m 100.000 %  \u001b[1m\u001b[38;5;15mCancer\u001b[0m(Ann)\n",
      "\u001b[1m[\u001b[0m\u001b[38;5;5m                 \u001b[0m\u001b[1m]\u001b[0m   0.000 %  \u001b[1m\u001b[38;5;15mCancer\u001b[0m(Bob)\n",
      "\u001b[1m[\u001b[0m\u001b[38;5;5m■■■■■■■■■■■■■■■■■\u001b[0m\u001b[1m]\u001b[0m 100.000 %  \u001b[1m\u001b[38;5;15mFriends\u001b[0m(Ann,Bob)\n",
      "\u001b[1m[\u001b[0m\u001b[38;5;5m                 \u001b[0m\u001b[1m]\u001b[0m   0.000 %  \u001b[1m\u001b[38;5;15mSmokes\u001b[0m(Bob)\n"
     ]
    }
   ],
   "source": [
    "db1 = Database(mln)\n",
    "db1<<'Cancer(Ann)'\n",
    "db1<<'!Cancer(Bob)'\n",
    "db1<<'Friends(Ann,Bob)'\n",
    "db1<<'!Smokes(Bob)'\n",
    "db1.write()"
   ]
  },
  {
   "cell_type": "code",
   "execution_count": 17,
   "metadata": {},
   "outputs": [
    {
     "name": "stdout",
     "output_type": "stream",
     "text": [
      "inference...\n",
      "Parameter:             Value:\n",
      "---------------------  ------------------------------------------------------------------------------------------------------------------------------------------------------\n",
      "cw                     0\n",
      "db                     <pracmln.mln.database.Database object at 0x7f25d1c07048>\n",
      "maxsteps               5000\n",
      "method                 WCSPInference\n",
      "mln                    <pracmln.mln.base.MLN object at 0x7f25d1cb4978>\n",
      "p                      0.6\n",
      "prev_learnwts_path     /home/asif/pracmln/examples/smokers\n",
      "prev_learnwts_project  {'/home/asif/ProbCog/examples/grades-ext': 'unknown.pracmln', '/home/asif': 'dummy.pracmln', '/home/asif/pracmln/examples/smokers': 'smokers.pracmln'}\n",
      "prev_query_path        /home/asif/pracmln/examples/smokers\n",
      "prev_query_project     {'/home/asif/pracmln/examples/smokers': 'smokers.pracmln'}\n",
      "queries                Cancer,Smokes,Friends\n",
      "verbose                1\n",
      "window_loc_learn       937x853+755+14\n",
      "window_loc_query       763x853+1096+140\n",
      "\n",
      "\u001b[1m==================\u001b[0m\n",
      "\u001b[1mEVIDENCE VARIABLES\u001b[0m\n",
      "\u001b[1m==================\u001b[0m\n",
      "\n",
      "mlnquery.py: l.247: === WORLD VARIABLES ===\n",
      "<BinaryVariable \"Cancer(Ann)\": [Cancer(Ann)]>\n",
      "  1.000  Cancer(Ann)\n",
      "<BinaryVariable \"Cancer(Bob)\": [Cancer(Bob)]>\n",
      "  0.000  Cancer(Bob)\n",
      "<BinaryVariable \"Friends(Ann,Ann)\": [Friends(Ann,Ann)]>\n",
      "  ?      Friends(Ann,Ann)\n",
      "<BinaryVariable \"Friends(Ann,Bob)\": [Friends(Ann,Bob)]>\n",
      "  1.000  Friends(Ann,Bob)\n",
      "<BinaryVariable \"Friends(Bob,Ann)\": [Friends(Bob,Ann)]>\n",
      "  ?      Friends(Bob,Ann)\n",
      "<BinaryVariable \"Friends(Bob,Bob)\": [Friends(Bob,Bob)]>\n",
      "  ?      Friends(Bob,Bob)\n",
      "<BinaryVariable \"Smokes(Ann)\": [Smokes(Ann)]>\n",
      "  ?      Smokes(Ann)\n",
      "<BinaryVariable \"Smokes(Bob)\": [Smokes(Bob)]>\n",
      "  0.000  Smokes(Bob)\n",
      "Inference engine: WCSPInference\n",
      "inference...\n",
      "grounding...\n",
      "\n",
      "\u001b[1m=================\u001b[0m\n",
      "\u001b[1mINFERENCE RESULTS\u001b[0m\n",
      "\u001b[1m=================\u001b[0m\n",
      "\n",
      "[=================] 100.000 % Cancer(Ann)\n",
      "[                 ]   0.000 % Cancer(Bob)\n",
      "[                 ]   0.000 % Friends(Ann,Ann)\n",
      "[=================] 100.000 % Friends(Ann,Bob)\n",
      "[                 ]   0.000 % Friends(Bob,Ann)\n",
      "[                 ]   0.000 % Friends(Bob,Bob)\n",
      "[                 ]   0.000 % Smokes(Ann)\n",
      "[                 ]   0.000 % Smokes(Bob)\n",
      "\n",
      "\u001b[1m============================\u001b[0m\n",
      "\u001b[1mINFERENCE RUNTIME STATISTICS\u001b[0m\n",
      "\u001b[1m============================\u001b[0m\n",
      "\u001b[1m[\u001b[0m\u001b[38;5;4m■■■■■■■■■■■■■■■■■\u001b[0m\u001b[1m]\u001b[0m 100.000 % 0:00:00.034 inference\n",
      "\n",
      "\u001b[1minference\u001b[0m took 0:00:00.092\n"
     ]
    }
   ],
   "source": [
    "DEFAULT_CONFIG = os.path.join(locs.user_data, global_config_filename)\n",
    "conf = PRACMLNConfig(DEFAULT_CONFIG)\n",
    "config = {}\n",
    "config['method']='WCSPInference'\n",
    "config['db']=db1\n",
    "config['mln']=result\n",
    "config['queries'] ='Cancer,Smokes,Friends'\n",
    "config['params'] = 'p=0.6,maxsteps=5000'\n",
    "config['cw'] = 0\n",
    "config['verbose'] = 1\n",
    "conf.update(config)\n",
    "infer = MLNQuery(config=conf, mln=result,db=db1)\n",
    "output = infer.run()"
   ]
  }
 ],
 "metadata": {
  "kernelspec": {
   "display_name": "Python 3",
   "language": "python",
   "name": "python3"
  },
  "language_info": {
   "codemirror_mode": {
    "name": "ipython",
    "version": 3
   },
   "file_extension": ".py",
   "mimetype": "text/x-python",
   "name": "python",
   "nbconvert_exporter": "python",
   "pygments_lexer": "ipython3",
   "version": "3.6.1"
  }
 },
 "nbformat": 4,
 "nbformat_minor": 2
}
