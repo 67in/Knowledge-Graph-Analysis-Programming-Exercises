{
 "cells": [
  {
   "cell_type": "markdown",
   "metadata": {},
   "source": [
    "## Example-2: Problem 4 in Exercise sheet 9\n",
    "\n",
    "In this exercise we will create MLN for problem 4 of exercise sheet. We follow same steps as we did in previous."
   ]
  },
  {
   "cell_type": "code",
   "execution_count": 1,
   "metadata": {
    "collapsed": true
   },
   "outputs": [],
   "source": [
    "from pracmln import MLN"
   ]
  },
  {
   "cell_type": "markdown",
   "metadata": {},
   "source": [
    "## Create MLN"
   ]
  },
  {
   "cell_type": "code",
   "execution_count": 2,
   "metadata": {},
   "outputs": [
    {
     "name": "stdout",
     "output_type": "stream",
     "text": [
      "\n",
      "\n",
      "\u001b[38;5;2m\n",
      "// predicate declarations\n",
      "\u001b[0m\u001b[38;5;15m\u001b[1mAttends\u001b[0m(person,event)\n",
      "\u001b[38;5;15m\u001b[1mFriendof\u001b[0m(person,person)\n",
      "\u001b[38;5;15m\u001b[1mTopic\u001b[0m(event,topic)\n",
      "\u001b[38;5;2m\n",
      "// formulas\n",
      "\u001b[0m\u001b[38;5;5m0.000000  \u001b[0m  (\u001b[38;5;15m\u001b[1mAttends\u001b[0m(p1,e) ^ \u001b[38;5;15m\u001b[1mFriendof\u001b[0m(p1,p2)) => \u001b[38;5;15m\u001b[1mAttends\u001b[0m(p2,e)\n",
      "\u001b[38;5;5m0.000000  \u001b[0m  (\u001b[38;5;15m\u001b[1mAttends\u001b[0m(p,e1) ^ \u001b[38;5;15m\u001b[1mTopic\u001b[0m(e1,t) ^ \u001b[38;5;15m\u001b[1mTopic\u001b[0m(e2,t)) => \u001b[38;5;15m\u001b[1mAttends\u001b[0m(p,e2)\n"
     ]
    }
   ],
   "source": [
    "mln = MLN(grammar='StandardGrammar',logic='FirstOrderLogic')\n",
    "# MLN for smoking Network\n",
    "\n",
    "# Predicate Declaration\n",
    "mln << 'Attends(person,event)'\n",
    "mln << 'Friendof(person,person)'\n",
    "mln << 'Topic(event,topic)'\n",
    "# Rules\n",
    "mln << '0 Attends(p1,e)^Friendof(p1,p2)=>Attends(p2,e)'\n",
    "mln << '0 Attends(p,e1)^Topic(e1,t)^Topic(e2,t) => Attends(p,e2)'\n",
    "mln.write()"
   ]
  },
  {
   "cell_type": "code",
   "execution_count": 3,
   "metadata": {
    "collapsed": true
   },
   "outputs": [],
   "source": [
    "from pracmln import Database"
   ]
  },
  {
   "cell_type": "markdown",
   "metadata": {},
   "source": [
    "## Create Database"
   ]
  },
  {
   "cell_type": "code",
   "execution_count": 4,
   "metadata": {},
   "outputs": [
    {
     "name": "stdout",
     "output_type": "stream",
     "text": [
      "\u001b[1m[\u001b[0m\u001b[38;5;5m■■■■■■■■■■■■■■■■■\u001b[0m\u001b[1m]\u001b[0m 100.000 %  \u001b[38;5;15m\u001b[1mAttends\u001b[0m(StudentA,Kgal)\n",
      "\u001b[1m[\u001b[0m\u001b[38;5;5m■■■■■■■■■■■■■■■■■\u001b[0m\u001b[1m]\u001b[0m 100.000 %  \u001b[38;5;15m\u001b[1mAttends\u001b[0m(StudentA,Kgas)\n",
      "\u001b[1m[\u001b[0m\u001b[38;5;5m■■■■■■■■■■■■■■■■■\u001b[0m\u001b[1m]\u001b[0m 100.000 %  \u001b[38;5;15m\u001b[1mAttends\u001b[0m(StudentB,Kgas)\n",
      "\u001b[1m[\u001b[0m\u001b[38;5;5m■■■■■■■■■■■■■■■■■\u001b[0m\u001b[1m]\u001b[0m 100.000 %  \u001b[38;5;15m\u001b[1mFriendof\u001b[0m(StudentA,StudentB)\n",
      "\u001b[1m[\u001b[0m\u001b[38;5;5m■■■■■■■■■■■■■■■■■\u001b[0m\u001b[1m]\u001b[0m 100.000 %  \u001b[38;5;15m\u001b[1mFriendof\u001b[0m(StudentB,StudentA)\n",
      "\u001b[1m[\u001b[0m\u001b[38;5;5m■■■■■■■■■■■■■■■■■\u001b[0m\u001b[1m]\u001b[0m 100.000 %  \u001b[38;5;15m\u001b[1mTopic\u001b[0m(Kgal,Kga)\n",
      "\u001b[1m[\u001b[0m\u001b[38;5;5m■■■■■■■■■■■■■■■■■\u001b[0m\u001b[1m]\u001b[0m 100.000 %  \u001b[38;5;15m\u001b[1mTopic\u001b[0m(Kgas,Kga)\n"
     ]
    }
   ],
   "source": [
    "db = Database(mln)\n",
    "db << 'Attends(StudentA,Kgal)'\n",
    "db << 'Attends(StudentA,Kgas)'\n",
    "db << 'Attends(StudentB,Kgas)'\n",
    "db << 'Friendof(StudentA,StudentB)'\n",
    "db << 'Friendof(StudentB,StudentA)'\n",
    "db << 'Topic(Kgal,Kga)'\n",
    "db << 'Topic(Kgas,Kga)'\n",
    "db.write()"
   ]
  },
  {
   "cell_type": "markdown",
   "metadata": {},
   "source": [
    "## Configure Parameters"
   ]
  },
  {
   "cell_type": "code",
   "execution_count": 5,
   "metadata": {
    "collapsed": true
   },
   "outputs": [],
   "source": [
    "from pracmln.utils.project import PRACMLNConfig\n",
    "from pracmln.utils import config, locs\n",
    "from pracmln.utils.config import global_config_filename\n",
    "import os\n",
    "from pracmln.mlnlearn import MLNLearn"
   ]
  },
  {
   "cell_type": "code",
   "execution_count": 6,
   "metadata": {},
   "outputs": [
    {
     "name": "stdout",
     "output_type": "stream",
     "text": [
      "loaded 1 database(s).\n",
      "Parameter:                   Value:\n",
      "---------------------------  ------------------------------------------------------------------------------------------------------------------------------------------------------\n",
      "db                           <pracmln.mln.database.Database object at 0x7fdbb8320b00>\n",
      "discr_preds                  0\n",
      "grammar                      StandardGrammar\n",
      "ignore_unknown_preds         0\n",
      "ignore_zero_weight_formulas  0\n",
      "incremental                  0\n",
      "logic                        FirstOrderLogic\n",
      "method                       BPLL\n",
      "mln                          <pracmln.mln.base.MLN object at 0x7fdbb8345390>\n",
      "multicore                    1\n",
      "prev_learnwts_path           /home/asif/pracmln/examples/smokers\n",
      "prev_learnwts_project        {'/home/asif/ProbCog/examples/grades-ext': 'unknown.pracmln', '/home/asif': 'dummy.pracmln', '/home/asif/pracmln/examples/smokers': 'smokers.pracmln'}\n",
      "prev_query_path              /home/asif/pracmln/examples/smokers\n",
      "prev_query_project           {'/home/asif/pracmln/examples/smokers': 'smokers.pracmln'}\n",
      "prior_mean                   0\n",
      "prior_stdev                  5\n",
      "profile                      0\n",
      "save                         1\n",
      "shuffle                      0\n",
      "use_initial_weights          0\n",
      "use_prior                    0\n",
      "verbose                      True\n",
      "window_loc_learn             937x853+755+14\n",
      "window_loc_query             763x853+1096+140\n",
      "grounding...\n",
      "starting optimization with bfgs... {}\n",
      "\n",
      "Optimization terminated successfully.      \n",
      "         Current function value: 6.480940\n",
      "         Iterations: 5\n",
      "         Function evaluations: 6\n",
      "         Gradient evaluations: 6\n",
      "optimization done with bfgs...\n",
      "f-opt: -6.4809396662533905\n",
      "function evaluations: 6\n",
      "warning flags: 0\n",
      "\n",
      "\n",
      "\u001b[1m===========================\u001b[0m\n",
      "\u001b[1mLEARNT MARKOV LOGIC NETWORK\u001b[0m\n",
      "\u001b[1m===========================\u001b[0m\n",
      "\n",
      "\n",
      "\n",
      "\u001b[38;5;2m\n",
      "// predicate declarations\n",
      "\u001b[0m\u001b[38;5;15m\u001b[1mAttends\u001b[0m(person,event)\n",
      "\u001b[38;5;15m\u001b[1mFriendof\u001b[0m(person,person)\n",
      "\u001b[38;5;15m\u001b[1mTopic\u001b[0m(event,topic)\n",
      "\u001b[38;5;2m\n",
      "// formulas\n",
      "\u001b[0m\u001b[38;5;5m-0.446931 \u001b[0m  (\u001b[38;5;15m\u001b[1mAttends\u001b[0m(p1,e) ^ \u001b[38;5;15m\u001b[1mFriendof\u001b[0m(p1,p2)) => \u001b[38;5;15m\u001b[1mAttends\u001b[0m(p2,e)\n",
      "\u001b[38;5;5m-0.715297 \u001b[0m  (\u001b[38;5;15m\u001b[1mAttends\u001b[0m(p,e1) ^ \u001b[38;5;15m\u001b[1mTopic\u001b[0m(e1,t) ^ \u001b[38;5;15m\u001b[1mTopic\u001b[0m(e2,t)) => \u001b[38;5;15m\u001b[1mAttends\u001b[0m(p,e2)\n",
      "\n",
      "<pracmln.mln.base.MLN object at 0x7fdbe408a1d0>\n"
     ]
    }
   ],
   "source": [
    "DEFAULT_CONFIG = os.path.join(locs.user_data, global_config_filename)\n",
    "conf = PRACMLNConfig(DEFAULT_CONFIG)\n",
    "config = {}\n",
    "config['verbose'] = True\n",
    "config['db'] = db\n",
    "config['mln'] = mln\n",
    "config['grammar'] = 'StandardGrammar'\n",
    "config['logic'] = 'FirstOrderLogic'\n",
    "#Other Methods: EnumerationAsk, MC-SAT, WCSPInference, GibbsSampler\n",
    "config['method'] = 'BPLL'\n",
    "config['multicore'] = 1\n",
    "config['profile'] = 0\n",
    "config['shuffle'] = 0\n",
    "config['prior_mean'] = 0\n",
    "config['prior_stdev'] = 5\n",
    "config['save'] = 1\n",
    "config['use_initial_weights'] = 0\n",
    "config['use_prior'] = 0\n",
    "conf.update(config)\n",
    "\n",
    "learn = MLNLearn(conf, mln=mln, db=db)\n",
    "result = learn.run()\n",
    "print(result)\n"
   ]
  },
  {
   "cell_type": "markdown",
   "metadata": {},
   "source": [
    "In above case MLN learns negative weights. Weights in MLN are not easy to interpret. In the paper on [MLN](https://homes.cs.washington.edu/~pedrod/papers/mlj05.pdf) it is mentioned that one can assume without\n",
    "loss of generality that all weights are non-negative. (A formula with a negative weight 'w'can be replaced by its\n",
    "negation with weight -w).\n"
   ]
  },
  {
   "cell_type": "markdown",
   "metadata": {},
   "source": [
    "## Inference"
   ]
  },
  {
   "cell_type": "code",
   "execution_count": 7,
   "metadata": {
    "collapsed": true
   },
   "outputs": [],
   "source": [
    "from pracmln import MLNQuery"
   ]
  },
  {
   "cell_type": "code",
   "execution_count": 8,
   "metadata": {
    "scrolled": true
   },
   "outputs": [
    {
     "name": "stdout",
     "output_type": "stream",
     "text": [
      "\u001b[1m[\u001b[0m\u001b[38;5;5m■■■■■■■■■■■■■■■■■\u001b[0m\u001b[1m]\u001b[0m 100.000 %  \u001b[38;5;15m\u001b[1mAttends\u001b[0m(StudentA,Kga)\n",
      "\u001b[1m[\u001b[0m\u001b[38;5;5m■■■■■■■■■■■■■■■■■\u001b[0m\u001b[1m]\u001b[0m 100.000 %  \u001b[38;5;15m\u001b[1mAttends\u001b[0m(StudentB,Kga)\n",
      "\u001b[1m[\u001b[0m\u001b[38;5;5m■■■■■■■■■■■■■■■■■\u001b[0m\u001b[1m]\u001b[0m 100.000 %  \u001b[38;5;15m\u001b[1mAttends\u001b[0m(StudentB,Kgal)\n",
      "\u001b[1m[\u001b[0m\u001b[38;5;5m■■■■■■■■■■■■■■■■■\u001b[0m\u001b[1m]\u001b[0m 100.000 %  \u001b[38;5;15m\u001b[1mTopic\u001b[0m(Kgal,Kga)\n"
     ]
    }
   ],
   "source": [
    "db1 = Database(mln)\n",
    "db1 << 'Attends(StudentA,Kga)'\n",
    "db1 << 'Attends(StudentB,Kga)'\n",
    "db1 << 'Attends(StudentB,Kgal)'\n",
    "db1 << 'Topic(Kgal,Kga)'\n",
    "db1.write()"
   ]
  },
  {
   "cell_type": "code",
   "execution_count": 10,
   "metadata": {},
   "outputs": [
    {
     "name": "stdout",
     "output_type": "stream",
     "text": [
      "inference...\n",
      "Parameter:             Value:\n",
      "---------------------  ------------------------------------------------------------------------------------------------------------------------------------------------------\n",
      "db                     <pracmln.mln.database.Database object at 0x7fdbb833b3c8>\n",
      "method                 WCSPInference\n",
      "mln                    <pracmln.mln.base.MLN object at 0x7fdbe408a1d0>\n",
      "prev_learnwts_path     /home/asif/pracmln/examples/smokers\n",
      "prev_learnwts_project  {'/home/asif/ProbCog/examples/grades-ext': 'unknown.pracmln', '/home/asif': 'dummy.pracmln', '/home/asif/pracmln/examples/smokers': 'smokers.pracmln'}\n",
      "prev_query_path        /home/asif/pracmln/examples/smokers\n",
      "prev_query_project     {'/home/asif/pracmln/examples/smokers': 'smokers.pracmln'}\n",
      "queries                Attends\n",
      "verbose                1\n",
      "window_loc_learn       937x853+755+14\n",
      "window_loc_query       763x853+1096+140\n",
      "\n",
      "\u001b[1m==================\u001b[0m\n",
      "\u001b[1mEVIDENCE VARIABLES\u001b[0m\n",
      "\u001b[1m==================\u001b[0m\n",
      "\n",
      "mlnquery.py: l.247: === WORLD VARIABLES ===\n",
      "<BinaryVariable \"Attends(StudentA,Kgal)\": [Attends(StudentA,Kgal)]>\n",
      "  ?      Attends(StudentA,Kgal)\n",
      "<BinaryVariable \"Attends(StudentA,Kga)\": [Attends(StudentA,Kga)]>\n",
      "  1.000  Attends(StudentA,Kga)\n",
      "<BinaryVariable \"Attends(StudentB,Kgal)\": [Attends(StudentB,Kgal)]>\n",
      "  1.000  Attends(StudentB,Kgal)\n",
      "<BinaryVariable \"Attends(StudentB,Kga)\": [Attends(StudentB,Kga)]>\n",
      "  1.000  Attends(StudentB,Kga)\n",
      "<BinaryVariable \"Friendof(StudentA,StudentA)\": [Friendof(StudentA,StudentA)]>\n",
      "  ?      Friendof(StudentA,StudentA)\n",
      "<BinaryVariable \"Friendof(StudentA,StudentB)\": [Friendof(StudentA,StudentB)]>\n",
      "  ?      Friendof(StudentA,StudentB)\n",
      "<BinaryVariable \"Friendof(StudentB,StudentA)\": [Friendof(StudentB,StudentA)]>\n",
      "  ?      Friendof(StudentB,StudentA)\n",
      "<BinaryVariable \"Friendof(StudentB,StudentB)\": [Friendof(StudentB,StudentB)]>\n",
      "  ?      Friendof(StudentB,StudentB)\n",
      "<BinaryVariable \"Topic(Kgal,Kga)\": [Topic(Kgal,Kga)]>\n",
      "  1.000  Topic(Kgal,Kga)\n",
      "<BinaryVariable \"Topic(Kga,Kga)\": [Topic(Kga,Kga)]>\n",
      "  ?      Topic(Kga,Kga)\n",
      "Inference engine: WCSPInference\n",
      "inference...\n",
      "grounding...\n",
      "\n",
      "\u001b[1m=================\u001b[0m\n",
      "\u001b[1mINFERENCE RESULTS\u001b[0m\n",
      "\u001b[1m=================\u001b[0m\n",
      "\n",
      "[=================] 100.000 % Attends(StudentA,Kga)\n",
      "[                 ]   0.000 % Attends(StudentA,Kgal)\n",
      "[=================] 100.000 % Attends(StudentB,Kga)\n",
      "[=================] 100.000 % Attends(StudentB,Kgal)\n",
      "\n",
      "\u001b[1m============================\u001b[0m\n",
      "\u001b[1mINFERENCE RUNTIME STATISTICS\u001b[0m\n",
      "\u001b[1m============================\u001b[0m\n",
      "\u001b[1m[\u001b[0m\u001b[38;5;4m■■■■■■■■■■■■■■■■■\u001b[0m\u001b[1m]\u001b[0m 100.000 % 0:00:00.011 inference\n",
      "\n",
      "\u001b[1minference\u001b[0m took 0:00:00.044\n"
     ]
    }
   ],
   "source": [
    "DEFAULT_CONFIG = os.path.join(locs.user_data, global_config_filename)\n",
    "conf = PRACMLNConfig(DEFAULT_CONFIG)\n",
    "config = {}\n",
    "config['method']='WCSPInference'\n",
    "config['db']=db1\n",
    "config['mln']=result\n",
    "config['queries'] ='Attends'\n",
    "config['verbose'] = 1\n",
    "conf.update(config)\n",
    "infer = MLNQuery(config=conf, mln=result,db=db1)\n",
    "output = infer.run()"
   ]
  }
 ],
 "metadata": {
  "kernelspec": {
   "display_name": "Python 3",
   "language": "python",
   "name": "python3"
  },
  "language_info": {
   "codemirror_mode": {
    "name": "ipython",
    "version": 3
   },
   "file_extension": ".py",
   "mimetype": "text/x-python",
   "name": "python",
   "nbconvert_exporter": "python",
   "pygments_lexer": "ipython3",
   "version": "3.6.1"
  }
 },
 "nbformat": 4,
 "nbformat_minor": 2
}
