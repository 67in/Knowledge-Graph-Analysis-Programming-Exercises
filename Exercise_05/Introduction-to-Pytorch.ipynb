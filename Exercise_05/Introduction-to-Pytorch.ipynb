{
 "cells": [
  {
   "cell_type": "markdown",
   "metadata": {},
   "source": [
    "## Exercise 5\n",
    "## Introduction to Pytorch"
   ]
  },
  {
   "cell_type": "markdown",
   "metadata": {},
   "source": [
    "Pytorch is a framework for developing deep neural networks. Neural networks are like complex mathematical operations. Various deep learning libraries including Pytorch performs these operations as a math function graph.  \n",
    "\n",
    "Why use Pytorch?\n",
    "Imperative Programming: Performs computation as user types it. This provides more flexibility to programmer like: printing values in middle of computation.\n",
    "\n",
    "Dynamic Computation Graphs: Computational graph structure is generated at runtime. This provides flexibility to change graph structure depending on input data for ex:RNN. Also useful for variable length input and output. \n",
    "Dynamic graphs also makes debugging easy as specific line of code fails and we can easily point it out. \n",
    "Other deep learning libraries use symbolic programming with clear separation between defining the computation and compiling it. \n",
    "\n",
    "Pytorch provides two main features:\n",
    "\n",
    "a) An n-dimensional Tensor, similar to numpy but can run on GPUs.\n",
    "\n",
    "In python numpy provides n-dimensional array objects and many functions to operate on these arrays. However numpy cannot utilize GPUs to accelerate its numerical computations. Pytorch Tensors (similar to numpy) can utilize GPUs to accelerate their numeric computations. \n",
    "\n",
    "b) Automatic differentiation for building and training neural networks.\n",
    "\n",
    "Implementation of neural networks using numpy requires implementing the forward and backward pass. This becomes very challenging for the large complex networks. Pytorch uses [automatic differentiations](https://en.wikipedia.org/wiki/Automatic_differentiation) to automate the computation og backward passes in neural networks. In autograd forward pass will define a computational graph. To represent nodes Pytorch uses Variable objects. Variable holds tensors and its gradient. \n",
    "\n",
    "For ex: if x a Variable then x.data is a Tensor and x.grad is another Variable holding the gradient of x.\n",
    "\n",
    "Pytorch also comes with $\\textbf{nn}$ package. The $\\textbf{nn}$ package serves as the higher level API. It provides a set of Modules, which are equivalent to neural network layers and some common useful loss functions. \n",
    "\n",
    "Another important package is $\\textbf{optim}$ which provides implementation of commonly used optimization algorithms. In this exercise we will explore all of them in more details. \n"
   ]
  },
  {
   "cell_type": "markdown",
   "metadata": {},
   "source": [
    "## Pytorch Tensor similar to Numpy\n",
    "\n",
    "We will explore some basic numpy like operations to get an indea of pytorch tensors. To know more please refer to [Pytorch Documentation](http://pytorch.org/docs/0.3.0/torch.html)."
   ]
  },
  {
   "cell_type": "code",
   "execution_count": 2,
   "metadata": {},
   "outputs": [
    {
     "data": {
      "text/plain": [
       "\n",
       " 0.3400  0.2579  0.6087\n",
       " 0.6561  0.2150  0.4903\n",
       " 0.2361  0.9067  0.2539\n",
       "[torch.FloatTensor of size 3x3]"
      ]
     },
     "execution_count": 2,
     "metadata": {},
     "output_type": "execute_result"
    }
   ],
   "source": [
    "import torch\n",
    "import numpy as np\n",
    "torch.rand(3,3)"
   ]
  },
  {
   "cell_type": "code",
   "execution_count": 2,
   "metadata": {},
   "outputs": [
    {
     "data": {
      "text/plain": [
       "\n",
       " 0  0  0\n",
       " 0  0  0\n",
       " 0  0  0\n",
       " 0  0  0\n",
       "[torch.FloatTensor of size 4x3]"
      ]
     },
     "execution_count": 2,
     "metadata": {},
     "output_type": "execute_result"
    }
   ],
   "source": [
    "#empty tensor\n",
    "torch.Tensor(4,3).zero_()"
   ]
  },
  {
   "cell_type": "code",
   "execution_count": 3,
   "metadata": {},
   "outputs": [
    {
     "data": {
      "text/plain": [
       "torch.Size([3, 2])"
      ]
     },
     "execution_count": 3,
     "metadata": {},
     "output_type": "execute_result"
    }
   ],
   "source": [
    "# Find size of Tensor\n",
    "x = torch.rand(3,2)\n",
    "x.size()"
   ]
  },
  {
   "cell_type": "code",
   "execution_count": 20,
   "metadata": {},
   "outputs": [
    {
     "name": "stdout",
     "output_type": "stream",
     "text": [
      "\n",
      " 0.9034  0.1009\n",
      " 0.9856  0.9231\n",
      " 0.5886  0.1694\n",
      "[torch.FloatTensor of size 3x2]\n",
      "\n",
      "\n",
      " 0.3280  0.2952\n",
      " 0.3754  0.2604\n",
      " 0.5555  0.4736\n",
      "[torch.FloatTensor of size 3x2]\n",
      "\n",
      "Sum\n",
      "\n",
      " 1.2314  0.3961\n",
      " 1.3611  1.1835\n",
      " 1.1441  0.6430\n",
      "[torch.FloatTensor of size 3x2]\n",
      "\n"
     ]
    },
    {
     "data": {
      "text/plain": [
       "\n",
       " 1.2314  0.3961\n",
       " 1.3611  1.1835\n",
       " 1.1441  0.6430\n",
       "[torch.FloatTensor of size 3x2]"
      ]
     },
     "execution_count": 20,
     "metadata": {},
     "output_type": "execute_result"
    }
   ],
   "source": [
    "# Addition of two Tensor\n",
    "x = torch.rand(3,2)\n",
    "print(x)\n",
    "y = torch.rand(3,2)\n",
    "print(y)\n",
    "print('Sum')\n",
    "print(x+y)\n",
    "torch.add(x,y)"
   ]
  },
  {
   "cell_type": "code",
   "execution_count": 17,
   "metadata": {},
   "outputs": [
    {
     "data": {
      "text/plain": [
       "\n",
       " 0.6314\n",
       " 0.6112\n",
       " 0.9198\n",
       "[torch.FloatTensor of size 3]"
      ]
     },
     "execution_count": 17,
     "metadata": {},
     "output_type": "execute_result"
    }
   ],
   "source": [
    "# Slicing\n",
    "x[:,0]"
   ]
  },
  {
   "cell_type": "code",
   "execution_count": 18,
   "metadata": {},
   "outputs": [
    {
     "data": {
      "text/plain": [
       "\n",
       " 0.6314  0.3378\n",
       " 0.6112  0.5770\n",
       " 0.9198  0.2736\n",
       " 0.7061  0.0956\n",
       " 0.4282  0.0340\n",
       " 0.0193  0.2098\n",
       "[torch.FloatTensor of size 6x2]"
      ]
     },
     "execution_count": 18,
     "metadata": {},
     "output_type": "execute_result"
    }
   ],
   "source": [
    "# Concatenation\n",
    "torch.cat((x, y), 0)"
   ]
  },
  {
   "cell_type": "code",
   "execution_count": 6,
   "metadata": {},
   "outputs": [
    {
     "name": "stdout",
     "output_type": "stream",
     "text": [
      "<class 'numpy.ndarray'>\n"
     ]
    }
   ],
   "source": [
    "# Converting to Numpy \n",
    "print(type(x.numpy()))"
   ]
  },
  {
   "cell_type": "code",
   "execution_count": 7,
   "metadata": {},
   "outputs": [
    {
     "name": "stdout",
     "output_type": "stream",
     "text": [
      "<class 'torch.DoubleTensor'>\n"
     ]
    }
   ],
   "source": [
    "# Converting from Numpy\n",
    "arr = np.random.rand(2,3)\n",
    "torch_arr = torch.from_numpy(arr)\n",
    "print(type(torch_arr))"
   ]
  },
  {
   "cell_type": "code",
   "execution_count": 8,
   "metadata": {
    "collapsed": true
   },
   "outputs": [],
   "source": [
    "# Easy Way to switch from CPU to GPU\n",
    "x = torch.rand(2,3)\n",
    "# x = x.cuda() #Run only if you've cuda on your notebook"
   ]
  },
  {
   "cell_type": "code",
   "execution_count": 9,
   "metadata": {},
   "outputs": [
    {
     "data": {
      "text/plain": [
       "\n",
       "-6.1306 -2.2039\n",
       "-1.1508  1.1278\n",
       " 0.4450 -2.0913\n",
       "-1.1266 -2.4093\n",
       "[torch.FloatTensor of size 4x2]"
      ]
     },
     "execution_count": 9,
     "metadata": {},
     "output_type": "execute_result"
    }
   ],
   "source": [
    "# Matrix Multiplication\n",
    "x = torch.randn(2,3)\n",
    "W_x = torch.randn(4,3)\n",
    "torch.mm(W_x, x.t())"
   ]
  },
  {
   "cell_type": "code",
   "execution_count": 3,
   "metadata": {},
   "outputs": [
    {
     "data": {
      "text/plain": [
       "\n",
       "(0 ,.,.) = \n",
       "  0.2230  0.3383  0.7907  1.2095\n",
       "  2.8042  1.0420  3.0222  3.2394\n",
       "\n",
       "(1 ,.,.) = \n",
       " -0.1764 -0.1856 -1.0241  0.4329\n",
       "  0.0965 -0.7597  2.5347 -1.7972\n",
       "[torch.FloatTensor of size 2x2x4]"
      ]
     },
     "execution_count": 3,
     "metadata": {},
     "output_type": "execute_result"
    }
   ],
   "source": [
    "# Batch Matrix Multiplication\n",
    "x = torch.randn(2,2,3)\n",
    "W_x = torch.randn(2,3,4)\n",
    "torch.bmm(x,W_x)"
   ]
  },
  {
   "cell_type": "markdown",
   "metadata": {},
   "source": [
    "##  Function and Autograd\n",
    "\n",
    "torch.nn.functional package provides some standard Neural Network Functions. This include some standard layers, non-linearities, loss functions etc. For more details refer to documentation.\n",
    "\n",
    "Pytorch autograd provides classes and functions implementing automatic differentiation of tensors. Depending on how the graph is defined gradient will be computed using backpropagation. \n",
    "\n",
    "autograd.Variable wraps a tensor and support operations defined on it.\n",
    "\n",
    "Steps for Computational Graph:\n",
    "1. Initialize variables and tensors and define computational operations. \n",
    "2. Use appropriate loss function.\n",
    "3. Define an optimizer.\n",
    "4. Do backward propagation."
   ]
  },
  {
   "cell_type": "code",
   "execution_count": 53,
   "metadata": {},
   "outputs": [
    {
     "name": "stdout",
     "output_type": "stream",
     "text": [
      "gradient of x: None\n",
      "Data of x: \n",
      " 1.3000\n",
      "[torch.FloatTensor of size 1]\n",
      "\n"
     ]
    }
   ],
   "source": [
    "# Variable, Function and Autograd\n",
    "from torch.autograd import Variable\n",
    "import torch.nn.functional as F\n",
    "x = Variable(torch.Tensor([1.3]), requires_grad=True)\n",
    "print('gradient of x:', x.grad)\n",
    "print('Data of x:', x.data)\n",
    "# Gradient is none because no backward pass yet"
   ]
  },
  {
   "cell_type": "code",
   "execution_count": 54,
   "metadata": {},
   "outputs": [
    {
     "name": "stdout",
     "output_type": "stream",
     "text": [
      "gradient of x: Variable containing:\n",
      " 4.6000\n",
      "[torch.FloatTensor of size 1]\n",
      "\n",
      "Data of x: \n",
      " 1.3000\n",
      "[torch.FloatTensor of size 1]\n",
      "\n"
     ]
    }
   ],
   "source": [
    "y = (x**2)+2*x-5\n",
    "y.backward(retain_graph=True)\n",
    "# Gradients w.r.t Variable is accumulated in .grad\n",
    "print('gradient of x:', x.grad)\n",
    "print('Data of x:', x.data)\n"
   ]
  },
  {
   "cell_type": "code",
   "execution_count": 55,
   "metadata": {},
   "outputs": [
    {
     "name": "stdout",
     "output_type": "stream",
     "text": [
      "gradient of x: Variable containing:\n",
      " 1.0164\n",
      "[torch.FloatTensor of size 1]\n",
      "\n",
      "Data of x: \n",
      " 1.3000\n",
      "[torch.FloatTensor of size 1]\n",
      "\n"
     ]
    }
   ],
   "source": [
    "x.grad.data.zero_()\n",
    "z = F.sigmoid(y)\n",
    "z.backward()\n",
    "# Gradients w.r.t Variable is accumulated in .grad\n",
    "print('gradient of x:', x.grad)\n",
    "print('Data of x:', x.data)"
   ]
  },
  {
   "cell_type": "markdown",
   "metadata": {},
   "source": [
    "## Linear Regression\n",
    "\n",
    "Now let's implement Simple linear regression using pytorch."
   ]
  },
  {
   "cell_type": "code",
   "execution_count": 56,
   "metadata": {},
   "outputs": [
    {
     "name": "stdout",
     "output_type": "stream",
     "text": [
      "Epoch 0\n",
      "x = 1.0 y = 2.0 grad = -2.0 \n",
      "x = 2.0 y = 4.0 grad = -7.840000152587891 \n",
      "x = 3.0 y = 6.0 grad = -16.228801727294922 \n",
      "x = 4.0 y = 8.0 grad = -23.657981872558594 \n",
      "Epoch 1\n",
      "x = 1.0 y = 2.0 grad = -1.0054643154144287 \n",
      "x = 2.0 y = 4.0 grad = -3.941420555114746 \n",
      "x = 3.0 y = 6.0 grad = -8.15874195098877 \n",
      "x = 4.0 y = 8.0 grad = -11.893630981445312 \n",
      "Epoch 2\n",
      "x = 1.0 y = 2.0 grad = -0.5054793357849121 \n",
      "x = 2.0 y = 4.0 grad = -1.9814786911010742 \n",
      "x = 3.0 y = 6.0 grad = -4.101662635803223 \n",
      "x = 4.0 y = 8.0 grad = -5.979312896728516 \n",
      "Epoch 3\n",
      "x = 1.0 y = 2.0 grad = -0.2541208267211914 \n",
      "x = 2.0 y = 4.0 grad = -0.9961538314819336 \n",
      "x = 3.0 y = 6.0 grad = -2.062039375305176 \n",
      "x = 4.0 y = 8.0 grad = -3.0059967041015625 \n",
      "Epoch 4\n",
      "x = 1.0 y = 2.0 grad = -0.12775492668151855 \n",
      "x = 2.0 y = 4.0 grad = -0.5007991790771484 \n",
      "x = 3.0 y = 6.0 grad = -1.0366544723510742 \n",
      "x = 4.0 y = 8.0 grad = -1.5112113952636719 \n",
      "Epoch 5\n",
      "x = 1.0 y = 2.0 grad = -0.06422638893127441 \n",
      "x = 2.0 y = 4.0 grad = -0.2517671585083008 \n",
      "x = 3.0 y = 6.0 grad = -0.5211582183837891 \n",
      "x = 4.0 y = 8.0 grad = -0.7597312927246094 \n",
      "Epoch 6\n",
      "x = 1.0 y = 2.0 grad = -0.032288551330566406 \n",
      "x = 2.0 y = 4.0 grad = -0.1265707015991211 \n",
      "x = 3.0 y = 6.0 grad = -0.26200103759765625 \n",
      "x = 4.0 y = 8.0 grad = -0.3819389343261719 \n",
      "Epoch 7\n",
      "x = 1.0 y = 2.0 grad = -0.01623249053955078 \n",
      "x = 2.0 y = 4.0 grad = -0.06363105773925781 \n",
      "x = 3.0 y = 6.0 grad = -0.1317157745361328 \n",
      "x = 4.0 y = 8.0 grad = -0.19201278686523438 \n",
      "Epoch 8\n",
      "x = 1.0 y = 2.0 grad = -0.008160591125488281 \n",
      "x = 2.0 y = 4.0 grad = -0.031989097595214844 \n",
      "x = 3.0 y = 6.0 grad = -0.06621837615966797 \n",
      "x = 4.0 y = 8.0 grad = -0.09653091430664062 \n",
      "Epoch 9\n",
      "x = 1.0 y = 2.0 grad = -0.004102468490600586 \n",
      "x = 2.0 y = 4.0 grad = -0.016081809997558594 \n",
      "x = 3.0 y = 6.0 grad = -0.033290863037109375 \n",
      "x = 4.0 y = 8.0 grad = -0.048526763916015625 \n",
      "Prediction for 12  23.987625122070312\n"
     ]
    }
   ],
   "source": [
    "import torch\n",
    "from torch.autograd import Variable\n",
    "\n",
    "w = Variable(torch.Tensor([1.0]),  requires_grad=True)  # Some Weight\n",
    "\n",
    "# Forward Pass\n",
    "def forward(x):\n",
    "    return x * w\n",
    "\n",
    "# Loss function\n",
    "def loss(x, y):\n",
    "    y_pred = forward(x)\n",
    "    return (y_pred - y) ** 2\n",
    "\n",
    "x_data = [1.0, 2.0, 3.0, 4.0]\n",
    "y_data = [2.0, 4.0, 6.0, 8.0]\n",
    "\n",
    "# Training using Gradient Descent\n",
    "loss_all = []\n",
    "for epoch in range(10):\n",
    "    loss_i = 0\n",
    "    print('Epoch', epoch)\n",
    "    for x_i, y_i in zip(x_data, y_data):\n",
    "        l = loss(x_i, y_i)\n",
    "        loss_i += l\n",
    "        l.backward()\n",
    "        print(\"x = {} y = {} grad = {} \".format(x_i, y_i, w.grad.data[0]))\n",
    "        w.data = w.data - 0.01 * w.grad.data\n",
    "        # Zero the gradients after updating weights\n",
    "        w.grad.data.zero_()\n",
    "    loss_all.append(loss_i.data.numpy())\n",
    "        \n",
    "# Test\n",
    "print(\"Prediction for 12 \", forward(12).data[0])"
   ]
  },
  {
   "cell_type": "code",
   "execution_count": 57,
   "metadata": {},
   "outputs": [
    {
     "data": {
      "image/png": "[encoded data removed]",
      "text/plain": [
       "<matplotlib.figure.Figure at 0x7f94608b9278>"
      ]
     },
     "metadata": {},
     "output_type": "display_data"
    }
   ],
   "source": [
    "import matplotlib.pyplot as plt\n",
    "\n",
    "plt.plot(loss_all)\n",
    "plt.ylabel('Loss')\n",
    "plt.xlabel('Epoch')\n",
    "plt.show()"
   ]
  },
  {
   "cell_type": "markdown",
   "metadata": {},
   "source": [
    "## Linear Regression using Pytorch Optimizer and NN"
   ]
  },
  {
   "cell_type": "code",
   "execution_count": 58,
   "metadata": {},
   "outputs": [
    {
     "name": "stdout",
     "output_type": "stream",
     "text": [
      "0 303.9129638671875\n",
      "1 33.49495315551758\n",
      "2 3.692748546600342\n",
      "3 0.4082794785499573\n",
      "4 0.04627445340156555\n",
      "5 0.006348391063511372\n",
      "6 0.0019184800330549479\n",
      "7 0.0014012448955327272\n",
      "8 0.0013159103691577911\n",
      "9 0.001278853276744485\n",
      "Prediction for 12 23.8663\n"
     ]
    }
   ],
   "source": [
    "import torch\n",
    "from torch.autograd import Variable\n",
    "\n",
    "class LinearRegression(torch.nn.Module):\n",
    "\n",
    "    def __init__(self, n_in=1, n_out=1):\n",
    "        \"\"\"\n",
    "        In the constructor we instantiate two nn.Linear module\n",
    "        n_in : Number of Input\n",
    "        n_out: Number of Output\n",
    "        \"\"\"\n",
    "        super(LinearRegression, self).__init__()\n",
    "        self.linear = torch.nn.Linear(n_in, n_out) \n",
    "\n",
    "    def forward(self, x):\n",
    "        \"\"\"\n",
    "        Accept a Variable of input data and return a Variable of output data. \n",
    "        \"\"\"\n",
    "        x = Variable(torch.from_numpy(x)).view(-1,1)\n",
    "        y_pred = self.linear(x)\n",
    "        return y_pred\n",
    "    \n",
    "    def loss(self, x, y):\n",
    "        y = Variable(torch.from_numpy(y))\n",
    "        loss = torch.nn.MSELoss(size_average=False)\n",
    "        #loss = torch.nn.BCELoss(size_average=True) # For Classification\n",
    "        return loss(x,y)\n",
    "\n",
    "x_data = np.array([1.0,2.0,3.0,4.0], dtype='float32')\n",
    "y_data = np.array([2.0,4.0,6.0,8.0], dtype='float32')\n",
    "\n",
    "# Linear Regression Model\n",
    "n_in = 1\n",
    "n_out = 1\n",
    "model = LinearRegression(n_in, n_out)\n",
    "\n",
    "# Construct loss function\n",
    "criterion = torch.nn.MSELoss(size_average=False)\n",
    "# Define an Optimizer \n",
    "optimizer = torch.optim.SGD(model.parameters(), lr=0.01)\n",
    "# model.parameters(): contain the learnable parameters.\n",
    "# Training\n",
    "loss_all = []\n",
    "for epoch in range(10):\n",
    "    y_pred = model.forward(x_data)\n",
    "    # Compute and print loss\n",
    "    loss = model.loss(y_pred, y_data)\n",
    "    loss_all.append(loss.data[0])\n",
    "    print(epoch, loss.data[0])\n",
    "    # Backward pass and weight updation.\n",
    "    optimizer.zero_grad()\n",
    "    loss.backward()\n",
    "    optimizer.step()\n",
    "\n",
    "# After training\n",
    "print(\"Prediction for 12\", model.forward(np.array([12.0], dtype='float32')).data.numpy()[0][0])"
   ]
  },
  {
   "cell_type": "code",
   "execution_count": 59,
   "metadata": {},
   "outputs": [
    {
     "data": {
      "image/png": "[encoded data removed]",
      "text/plain": [
       "<matplotlib.figure.Figure at 0x7f94598321d0>"
      ]
     },
     "metadata": {},
     "output_type": "display_data"
    }
   ],
   "source": [
    "import matplotlib.pyplot as plt\n",
    "\n",
    "plt.plot(loss_all)\n",
    "plt.ylabel('Loss')\n",
    "plt.xlabel('Epoch')\n",
    "plt.show()"
   ]
  },
  {
   "cell_type": "markdown",
   "metadata": {},
   "source": [
    "## 5.1 Linear Regression for non linear data\n",
    "\n",
    "Similar to Exercise 3 Generate polynomial features and fit linear regression model. \n"
   ]
  },
  {
   "cell_type": "code",
   "execution_count": 60,
   "metadata": {
    "collapsed": true
   },
   "outputs": [],
   "source": [
    "#####################\n",
    "### Your Code Here\n",
    "#####################\n"
   ]
  },
  {
   "cell_type": "markdown",
   "metadata": {},
   "source": [
    "## 5.2 Implement XOR function"
   ]
  },
  {
   "cell_type": "code",
   "execution_count": 61,
   "metadata": {
    "collapsed": true
   },
   "outputs": [],
   "source": [
    "#####################\n",
    "### Your Code Here\n",
    "#####################"
   ]
  },
  {
   "cell_type": "markdown",
   "metadata": {},
   "source": [
    "## 5.3 Multilayer Perceptron\n",
    "\n",
    "a) Use below defined MLP class evaluate it against mnist dataset. Dataset can be downloaded using pytorch datautils or separetly from: http://yann.lecun.com/exdb/mnist/.\n",
    "Use accuracy as the evaluation measure and also plot the confusion matrix.\n",
    "\n",
    "b) Extract representation after second hidden layer and do the visualization using t-sne(discussed in last exercise). \n",
    "\n",
    "c) Repeat (a) with two different optimizers: adam, rmsprop."
   ]
  },
  {
   "cell_type": "code",
   "execution_count": 64,
   "metadata": {
    "collapsed": true
   },
   "outputs": [],
   "source": [
    "import torch.nn as nn\n",
    "# Defining a simple MLP\n",
    "class MLP(nn.Module):\n",
    "    def __init__(self, n_in, n_hidden_1, n_hidden_2, n_out):\n",
    "        super(MLP, self).__init__()\n",
    "        self.n_in = n_in\n",
    "        self.n_hidden_1 = n_hidden_1\n",
    "        self.n_hidden_2 = n_hidden_2\n",
    "        self.n_out = n_out\n",
    "\n",
    "        self.fc1 = nn.Linear(self.n_in, n_hidden_1)\n",
    "        self.fc2 = nn.Linear(n_hidden_1, n_hidden_2)\n",
    "        self.fc3 = nn.Linear(n_hidden_2, self.n_out)\n",
    "\n",
    "        self.loss = nn.CrossEntropyLoss()\n",
    "    def forward(self, x, target):\n",
    "        x = x.view(-1, self.n_in)\n",
    "        x = F.relu(self.fc1(x))\n",
    "        x = F.relu(self.fc2(x))\n",
    "        x = F.relu(self.fc3(x))\n",
    "        ll = self.loss(x, target)\n",
    "        return x, ll"
   ]
  },
  {
   "cell_type": "markdown",
   "metadata": {},
   "source": [
    "## Extending Pytorch with custom modules"
   ]
  },
  {
   "cell_type": "code",
   "execution_count": 66,
   "metadata": {},
   "outputs": [
    {
     "data": {
      "text/plain": [
       "Variable containing:\n",
       " 0.2524  1.0743  1.0326  0.4998  2.1467\n",
       " 0.2060  0.8692  0.8237  0.4249  1.7448\n",
       " 0.0000  0.0000  0.0000  0.0000  0.0000\n",
       "[torch.FloatTensor of size 3x5]"
      ]
     },
     "execution_count": 66,
     "metadata": {},
     "output_type": "execute_result"
    }
   ],
   "source": [
    "# Code Taken from: https://github.com/jcjohnson/pytorch-examples#pytorch-variables-and-autograd\n",
    "import torch\n",
    "from torch.autograd import Variable\n",
    "\n",
    "class MyReLU(torch.autograd.Function):\n",
    "  \"\"\"\n",
    "  We can implement our own custom autograd Functions by subclassing\n",
    "  torch.autograd.Function and implementing the forward and backward passes\n",
    "  which operate on Tensors.\n",
    "  \"\"\"\n",
    "  def forward(self, input):\n",
    "    \"\"\"\n",
    "    In the forward pass we receive a Tensor containing the input and return a\n",
    "    Tensor containing the output. You can cache arbitrary Tensors for use in the\n",
    "    backward pass using the save_for_backward method.\n",
    "    \"\"\"\n",
    "    self.save_for_backward(input)\n",
    "    return input.clamp(min=0)\n",
    "\n",
    "  def backward(self, grad_output):\n",
    "    \"\"\"\n",
    "    In the backward pass we receive a Tensor containing the gradient of the loss\n",
    "    with respect to the output, and we need to compute the gradient of the loss\n",
    "    with respect to the input.\n",
    "    \"\"\"\n",
    "    input, = self.saved_tensors\n",
    "    grad_input = grad_output.clone()\n",
    "    grad_input[input < 0] = 0\n",
    "    return grad_input\n",
    "\n",
    "relu = MyReLU()\n",
    "x = Variable(torch.randn(3, 2).type(torch.FloatTensor), requires_grad=False)\n",
    "w1 = Variable(torch.randn(2, 5).type(torch.FloatTensor), requires_grad=False)\n",
    "\n",
    "# Forward pass: compute predicted y using operations on Variables; we compute\n",
    "# ReLU using our custom autograd operation.\n",
    "relu(x.mm(w1))"
   ]
  },
  {
   "cell_type": "markdown",
   "metadata": {},
   "source": [
    "## References:\n",
    "\n",
    "1. http://pytorch.org/docs/0.3.0/\n"
   ]
  }
 ],
 "metadata": {
  "kernelspec": {
   "display_name": "Python 3",
   "language": "python",
   "name": "python3"
  },
  "language_info": {
   "codemirror_mode": {
    "name": "ipython",
    "version": 3
   },
   "file_extension": ".py",
   "mimetype": "text/x-python",
   "name": "python",
   "nbconvert_exporter": "python",
   "pygments_lexer": "ipython3",
   "version": "3.6.1"
  }
 },
 "nbformat": 4,
 "nbformat_minor": 2
}
